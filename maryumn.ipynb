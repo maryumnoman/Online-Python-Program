{
 "cells": [
  {
   "cell_type": "code",
   "execution_count": 7,
   "id": "a49f7713",
   "metadata": {},
   "outputs": [
    {
     "name": "stdout",
     "output_type": "stream",
     "text": [
      "Twinkle, twinkle, little star,\n",
      "       How I wonder what you are!\n",
      "              Up above the world so high,\n",
      "              Like a diamond in the sky.\n",
      "Twinkle, twinkle, little star,\n",
      "       How I wonder what you are\n"
     ]
    }
   ],
   "source": [
    "#1\n",
    "print (\"Twinkle, twinkle, little star,\\n       How I wonder what you are!\\n              Up above the world so high,\\n              Like a diamond in the sky.\\nTwinkle, twinkle, little star,\\n       How I wonder what you are\");\n"
   ]
  },
  {
   "cell_type": "code",
   "execution_count": 1,
   "id": "f1a7b6f0",
   "metadata": {},
   "outputs": [
    {
     "name": "stdout",
     "output_type": "stream",
     "text": [
      "3.8.8 (default, Apr 13 2021, 15:08:03) [MSC v.1916 64 bit (AMD64)]\n"
     ]
    }
   ],
   "source": [
    "#2. Write a Python program to get the Python version you are using\n",
    "import sys\n",
    "print(sys.version);"
   ]
  },
  {
   "cell_type": "code",
   "execution_count": 2,
   "id": "b965f297",
   "metadata": {},
   "outputs": [
    {
     "name": "stdout",
     "output_type": "stream",
     "text": [
      "Current date and time : \n",
      "2021-10-24 03:01:41\n"
     ]
    }
   ],
   "source": [
    "#3. Write a Python program to display the current date and time.\n",
    "\n",
    "import datetime\n",
    "now = datetime.datetime.now()\n",
    "print (\"Current date and time : \")\n",
    "print (now.strftime(\"%Y-%m-%d %H:%M:%S\"))\n",
    "\n"
   ]
  },
  {
   "cell_type": "code",
   "execution_count": null,
   "id": "d6983b45",
   "metadata": {},
   "outputs": [],
   "source": [
    "#4. program which accepts the radius of a circle from the user and compute the area.\n",
    "radius=int(input(\"enter radius\"));\n",
    "area=(23/7)*radius**2;\n",
    "print(\"area\");\n",
    "\n"
   ]
  },
  {
   "cell_type": "code",
   "execution_count": null,
   "id": "7c954925",
   "metadata": {},
   "outputs": [],
   "source": [
    "#5. Write a Python program which accepts the user's first and last name and print them in\n",
    "\n",
    "firstname=input(\"enter first name\");\n",
    "lastname=input(\"enter last name\");\n",
    "fullname=firstname+lastname [::-1];\n",
    "print(\"fullname\");"
   ]
  },
  {
   "cell_type": "code",
   "execution_count": null,
   "id": "5d43c182",
   "metadata": {},
   "outputs": [],
   "source": [
    "#6. Write a python program which takes two inputs from user and print them addition\n",
    "\n",
    "maths=int(input(\"enter maths marks\"))\n",
    "english=int(input(\"enter english marks\"))\n",
    "totalmarks=maths+english\n",
    "print(\"totalmarks\");"
   ]
  },
  {
   "cell_type": "code",
   "execution_count": null,
   "id": "1f7aaa84",
   "metadata": {},
   "outputs": [],
   "source": [
    "#7. generate mark sheet using grades ?\n",
    "\n",
    "maths=int(input(\"enter maths marks\"))\n",
    "english=int(input(\"enter english marks\"))\n",
    "islamiat=int(input(\"enter islamiat marks\"))\n",
    "science=int(input(\"enter science marks\"))\n",
    "sstd=int(input(\"enter sstdt marks\"))\n",
    "totalmarks=maths+english+islamiat+science+sstd\n",
    "if totalmarks<100 and totalmarks>79:\n",
    "    print(\"grade A\");\n",
    "elif  totalmarks<80 and totalmarks>59:\n",
    "    print(\"grade B\");\n",
    "elif  totalmarks<60 and totalmarks>39:\n",
    "    print(\"grade C\");\n",
    "elif  totalmarks<40 and totalmarks>19:\n",
    "    print(\"grade D\");\n",
    "else:\n",
    "    print(\"fail\");\n"
   ]
  },
  {
   "cell_type": "code",
   "execution_count": null,
   "id": "46eb8d9e",
   "metadata": {},
   "outputs": [],
   "source": [
    "#8. Write a program identify that the given number is evenor odd?\n",
    "\n",
    "num=int(input(\"enter a number: \"));\n",
    "if (num % 2) ==0\n",
    "    print(\"even\");\n",
    "else:\n",
    "    print(\"odd\");"
   ]
  },
  {
   "cell_type": "code",
   "execution_count": 4,
   "id": "1025a4ec",
   "metadata": {},
   "outputs": [
    {
     "name": "stdout",
     "output_type": "stream",
     "text": [
      "length of the list =  4\n"
     ]
    }
   ],
   "source": [
    "#9 Write a program which print the length of the list?\n",
    "\n",
    "\n",
    "ListName = [\"mango\", \"orange\",\" banana\", \"grapes\"]\n",
    "print (\"length of the list = \", len(ListName))"
   ]
  },
  {
   "cell_type": "code",
   "execution_count": 2,
   "id": "bf3cb311",
   "metadata": {},
   "outputs": [
    {
     "name": "stdout",
     "output_type": "stream",
     "text": [
      "28\n"
     ]
    }
   ],
   "source": [
    "#10.Write a Python program to sum all the numeric items in a list?\n",
    "\n",
    "list=[1, 2, 3, 4, 5, 6, 7]\n",
    "a=sum(list);\n",
    "print(a);\n"
   ]
  },
  {
   "cell_type": "code",
   "execution_count": 3,
   "id": "0dbd1681",
   "metadata": {},
   "outputs": [
    {
     "name": "stdout",
     "output_type": "stream",
     "text": [
      "Largest element is: 58\n"
     ]
    }
   ],
   "source": [
    "#11.Write a Python program to get the largest number from a numeric list.\n",
    "\n",
    "\n",
    "list=[1,22,21,58,33]\n",
    "print(\"Largest element is:\", max(list));"
   ]
  },
  {
   "cell_type": "code",
   "execution_count": 4,
   "id": "9dd9ac43",
   "metadata": {},
   "outputs": [
    {
     "name": "stdout",
     "output_type": "stream",
     "text": [
      "1\n",
      "1\n",
      "2\n",
      "3\n"
     ]
    }
   ],
   "source": [
    "#12. Write a program that prints out all the elements of the list that are less than 5.\n",
    "\n",
    "list = [1, 1, 2, 3, 5, 8, 13, 21, 34, 55, 89]\n",
    "for item in list:\n",
    "    if item<5:\n",
    "        print(item);\n",
    "        "
   ]
  },
  {
   "cell_type": "code",
   "execution_count": null,
   "id": "f5ed79a1",
   "metadata": {},
   "outputs": [],
   "source": []
  }
 ],
 "metadata": {
  "kernelspec": {
   "display_name": "Python 3",
   "language": "python",
   "name": "python3"
  },
  "language_info": {
   "codemirror_mode": {
    "name": "ipython",
    "version": 3
   },
   "file_extension": ".py",
   "mimetype": "text/x-python",
   "name": "python",
   "nbconvert_exporter": "python",
   "pygments_lexer": "ipython3",
   "version": "3.8.8"
  }
 },
 "nbformat": 4,
 "nbformat_minor": 5
}
